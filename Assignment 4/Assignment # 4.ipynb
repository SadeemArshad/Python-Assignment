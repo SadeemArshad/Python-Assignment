{
 "cells": [
  {
   "cell_type": "code",
   "execution_count": 3,
   "id": "6d221621",
   "metadata": {},
   "outputs": [
    {
     "name": "stdout",
     "output_type": "stream",
     "text": [
      "Enter 1st Value23\n",
      "Enter 2nd Value4\n",
      "Enter operator+\n",
      "answer 27\n"
     ]
    }
   ],
   "source": [
    "#Answer1\n",
    "\n",
    "v1 = input(\"Enter 1st Value\")\n",
    "v2 = input(\"Enter 2nd Value\")\n",
    "operator = input(\"Enter operator\")\n",
    "\n",
    "v1 = int(v1)\n",
    "v2 = int(v2)\n",
    "\n",
    "\n",
    "if operator == '+':\n",
    "    value = v1 + v2\n",
    "    print(\"answer\",value)\n",
    "    \n",
    "elif operator == '-':\n",
    "    value = v1 - v2\n",
    "    print(\"answer\",value)\n",
    "    \n",
    "elif operator == '*':\n",
    "    value = v1 * v2\n",
    "    print(\"answer\",value)\n",
    "    \n",
    "elif operator == '/':\n",
    "    value = v1 / v2\n",
    "    print(\"answer\",value)\n",
    "    \n",
    "else :\n",
    "    print(\"Invalid operator\")\n",
    "\n"
   ]
  },
  {
   "cell_type": "code",
   "execution_count": 1,
   "id": "db9b7729",
   "metadata": {},
   "outputs": [
    {
     "name": "stdout",
     "output_type": "stream",
     "text": [
      "4\n"
     ]
    }
   ],
   "source": [
    "#Answer2\n",
    "\n",
    "names = [\"amna\", \"habib\", \"umar\", 4] \n",
    "for i in names: \n",
    "    if type(i) == int: \n",
    "        print(i)"
   ]
  },
  {
   "cell_type": "code",
   "execution_count": 6,
   "id": "63ade73a",
   "metadata": {},
   "outputs": [
    {
     "name": "stdout",
     "output_type": "stream",
     "text": [
      "{1: 'rizwan', 2: 'Babar', 3: {1: 'Shaheen', 2: 'Imad', 3: 'Fakhar'}}\n"
     ]
    }
   ],
   "source": [
    "#Answer3\n",
    "\n",
    "a = {1: 'rizwan', 2: 'Babar', 3: {1: 'Shaheen', 2:'Imad'}}\n",
    "\n",
    "a[3][3] = 'Fakhar'\n",
    "print(a)"
   ]
  },
  {
   "cell_type": "code",
   "execution_count": 6,
   "id": "56b4476b",
   "metadata": {},
   "outputs": [
    {
     "name": "stdout",
     "output_type": "stream",
     "text": [
      "15\n"
     ]
    }
   ],
   "source": [
    "#Answer4\n",
    "\n",
    "my_dict = {'one': 1, 'two': 5, 'three': 9}\n",
    "#print(sum(my_dict.values()))\n",
    "sum = 0\n",
    "for i in my_dict:\n",
    "    sum += my_dict[i]\n",
    "\n",
    "print(sum)    "
   ]
  },
  {
   "cell_type": "code",
   "execution_count": 17,
   "id": "d32a4942",
   "metadata": {},
   "outputs": [
    {
     "name": "stdout",
     "output_type": "stream",
     "text": [
      "4\n"
     ]
    }
   ],
   "source": [
    "#Answer5\n",
    "\n",
    "list1 = [2, 4, 5, 6, 4, 9]\n",
    "list2 = []\n",
    "\n",
    "for i in list1 :\n",
    "    if i not in list2 :\n",
    "        list2.append(i)\n",
    "        \n",
    "    else :\n",
    "        print(i)\n",
    "    "
   ]
  },
  {
   "cell_type": "code",
   "execution_count": 5,
   "id": "876a45f9",
   "metadata": {},
   "outputs": [
    {
     "name": "stdout",
     "output_type": "stream",
     "text": [
      "Key Exists\n"
     ]
    }
   ],
   "source": [
    "#Answer6\n",
    "\n",
    "dict = {\n",
    "        1: '1094', 2:'1092', 3:'1090'     \n",
    "        }\n",
    " \n",
    "if dict.get(1) :\n",
    "    print(\"Key Exists\")\n",
    "else:\n",
    "    print(\"Key Don't Exists\")"
   ]
  },
  {
   "cell_type": "code",
   "execution_count": null,
   "id": "6a0390a6",
   "metadata": {},
   "outputs": [],
   "source": []
  }
 ],
 "metadata": {
  "kernelspec": {
   "display_name": "Python 3",
   "language": "python",
   "name": "python3"
  },
  "language_info": {
   "codemirror_mode": {
    "name": "ipython",
    "version": 3
   },
   "file_extension": ".py",
   "mimetype": "text/x-python",
   "name": "python",
   "nbconvert_exporter": "python",
   "pygments_lexer": "ipython3",
   "version": "3.8.8"
  }
 },
 "nbformat": 4,
 "nbformat_minor": 5
}
